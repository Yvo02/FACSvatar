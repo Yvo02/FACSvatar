{
 "cells": [
  {
   "cell_type": "code",
   "execution_count": 6,
   "id": "initial_id",
   "metadata": {
    "ExecuteTime": {
     "end_time": "2024-08-23T12:55:13.076360Z",
     "start_time": "2024-08-23T12:55:13.059301Z"
    }
   },
   "outputs": [
    {
     "ename": "ImportError",
     "evalue": "cannot import name 'loop' from 'IPython.terminal.pt_inputhooks.asyncio' (C:\\Users\\Yvo\\anaconda3\\envs\\AUR\\lib\\site-packages\\IPython\\terminal\\pt_inputhooks\\asyncio.py)",
     "output_type": "error",
     "traceback": [
      "\u001B[1;31m---------------------------------------------------------------------------\u001B[0m",
      "\u001B[1;31mImportError\u001B[0m                               Traceback (most recent call last)",
      "Cell \u001B[1;32mIn[6], line 6\u001B[0m\n\u001B[0;32m      4\u001B[0m sys\u001B[38;5;241m.\u001B[39mpath\u001B[38;5;241m.\u001B[39mappend(\u001B[38;5;124m\"\u001B[39m\u001B[38;5;124m.\u001B[39m\u001B[38;5;124m\"\u001B[39m)\n\u001B[0;32m      5\u001B[0m \u001B[38;5;28;01mimport\u001B[39;00m \u001B[38;5;21;01mcopy\u001B[39;00m\n\u001B[1;32m----> 6\u001B[0m \u001B[38;5;28;01mfrom\u001B[39;00m \u001B[38;5;21;01mcontroller\u001B[39;00m \u001B[38;5;28;01mimport\u001B[39;00m Controller\n\u001B[0;32m      7\u001B[0m \u001B[38;5;28;01mfrom\u001B[39;00m \u001B[38;5;21;01mipywidgets\u001B[39;00m \u001B[38;5;28;01mimport\u001B[39;00m interact, interactive, interactive_output, HBox, Label, Layout, Button, ToggleButton\n\u001B[0;32m      8\u001B[0m \u001B[38;5;28;01mimport\u001B[39;00m \u001B[38;5;21;01mipywidgets\u001B[39;00m \u001B[38;5;28;01mas\u001B[39;00m \u001B[38;5;21;01mwidgets\u001B[39;00m\n",
      "File \u001B[1;32m~\\Desktop\\Bachelorarbeit\\Experiment\\FACSvatarWithCCSupport\\modules\\gui\\controller.py:10\u001B[0m\n\u001B[0;32m      7\u001B[0m \u001B[38;5;28;01mimport\u001B[39;00m \u001B[38;5;21;01mjson\u001B[39;00m\n\u001B[0;32m      8\u001B[0m \u001B[38;5;28;01mimport\u001B[39;00m \u001B[38;5;21;01mtime\u001B[39;00m\n\u001B[1;32m---> 10\u001B[0m \u001B[38;5;28;01mfrom\u001B[39;00m \u001B[38;5;21;01mIPython\u001B[39;00m\u001B[38;5;21;01m.\u001B[39;00m\u001B[38;5;21;01mterminal\u001B[39;00m\u001B[38;5;21;01m.\u001B[39;00m\u001B[38;5;21;01mpt_inputhooks\u001B[39;00m\u001B[38;5;21;01m.\u001B[39;00m\u001B[38;5;21;01masyncio\u001B[39;00m \u001B[38;5;28;01mimport\u001B[39;00m loop\n\u001B[0;32m     12\u001B[0m \u001B[38;5;66;03m#own imports\u001B[39;00m\n\u001B[0;32m     13\u001B[0m sys\u001B[38;5;241m.\u001B[39mpath\u001B[38;5;241m.\u001B[39mappend(\u001B[38;5;124m\"\u001B[39m\u001B[38;5;124m..\u001B[39m\u001B[38;5;124m\"\u001B[39m)\n",
      "\u001B[1;31mImportError\u001B[0m: cannot import name 'loop' from 'IPython.terminal.pt_inputhooks.asyncio' (C:\\Users\\Yvo\\anaconda3\\envs\\AUR\\lib\\site-packages\\IPython\\terminal\\pt_inputhooks\\asyncio.py)"
     ]
    }
   ],
   "source": [
    "# Copyright (c) Stef van der Struijk\n",
    "# License: GNU Lesser General Public License\n",
    "import sys\n",
    "sys.path.append(\".\")\n",
    "import copy\n",
    "from controller import Controller\n",
    "from ipywidgets import interact, interactive, interactive_output, HBox, Label, Layout, Button, ToggleButton\n",
    "import ipywidgets as widgets\n",
    "import asyncio"
   ]
  },
  {
   "cell_type": "code",
   "execution_count": 7,
   "id": "cba334e0a1372e46",
   "metadata": {
    "ExecuteTime": {
     "end_time": "2024-08-23T12:55:13.572551Z",
     "start_time": "2024-08-23T12:55:13.546353Z"
    }
   },
   "outputs": [
    {
     "ename": "NameError",
     "evalue": "name 'Controller' is not defined",
     "output_type": "error",
     "traceback": [
      "\u001B[1;31m---------------------------------------------------------------------------\u001B[0m",
      "\u001B[1;31mNameError\u001B[0m                                 Traceback (most recent call last)",
      "Cell \u001B[1;32mIn[7], line 2\u001B[0m\n\u001B[0;32m      1\u001B[0m \u001B[38;5;66;03m# restart kernel if changes made to .py file\u001B[39;00m\n\u001B[1;32m----> 2\u001B[0m controller \u001B[38;5;241m=\u001B[39m \u001B[43mController\u001B[49m(pub_ip\u001B[38;5;241m=\u001B[39m\u001B[38;5;124m\"\u001B[39m\u001B[38;5;124m127.0.0.1\u001B[39m\u001B[38;5;124m\"\u001B[39m, pub_port\u001B[38;5;241m=\u001B[39m\u001B[38;5;241m5570\u001B[39m, pub_key\u001B[38;5;241m=\u001B[39m\u001B[38;5;124m\"\u001B[39m\u001B[38;5;124mgui.face_config\u001B[39m\u001B[38;5;124m\"\u001B[39m, pub_bind\u001B[38;5;241m=\u001B[39m\u001B[38;5;28;01mFalse\u001B[39;00m,\n\u001B[0;32m      3\u001B[0m                         deal_ip\u001B[38;5;241m=\u001B[39m\u001B[38;5;124m\"\u001B[39m\u001B[38;5;124m127.0.0.1\u001B[39m\u001B[38;5;124m\"\u001B[39m, deal_port\u001B[38;5;241m=\u001B[39m\u001B[38;5;241m5580\u001B[39m, deal_key\u001B[38;5;241m=\u001B[39m\u001B[38;5;124m\"\u001B[39m\u001B[38;5;124mgui\u001B[39m\u001B[38;5;124m\"\u001B[39m, deal_topic\u001B[38;5;241m=\u001B[39m\u001B[38;5;124m\"\u001B[39m\u001B[38;5;124mmultiplier\u001B[39m\u001B[38;5;124m\"\u001B[39m,\n\u001B[0;32m      4\u001B[0m                         deal2_ip\u001B[38;5;241m=\u001B[39m\u001B[38;5;124m\"\u001B[39m\u001B[38;5;124m127.0.0.1\u001B[39m\u001B[38;5;124m\"\u001B[39m, deal2_port\u001B[38;5;241m=\u001B[39m\u001B[38;5;241m5581\u001B[39m, deal2_key\u001B[38;5;241m=\u001B[39m\u001B[38;5;124m\"\u001B[39m\u001B[38;5;124mgui\u001B[39m\u001B[38;5;124m\"\u001B[39m, deal2_topic\u001B[38;5;241m=\u001B[39m\u001B[38;5;124m\"\u001B[39m\u001B[38;5;124mdnn\u001B[39m\u001B[38;5;124m\"\u001B[39m,\n\u001B[0;32m      5\u001B[0m                         deal3_ip\u001B[38;5;241m=\u001B[39m\u001B[38;5;124m\"\u001B[39m\u001B[38;5;124m127.0.0.1\u001B[39m\u001B[38;5;124m\"\u001B[39m, deal3_port\u001B[38;5;241m=\u001B[39m\u001B[38;5;241m5582\u001B[39m, deal3_key\u001B[38;5;241m=\u001B[39m\u001B[38;5;124m\"\u001B[39m\u001B[38;5;124mgui\u001B[39m\u001B[38;5;124m\"\u001B[39m, deal3_topic\u001B[38;5;241m=\u001B[39m\u001B[38;5;124m\"\u001B[39m\u001B[38;5;124mdnn\u001B[39m\u001B[38;5;124m\"\u001B[39m\n\u001B[0;32m      6\u001B[0m                        )\n",
      "\u001B[1;31mNameError\u001B[0m: name 'Controller' is not defined"
     ]
    }
   ],
   "source": [
    "# restart kernel if changes made to .py file\n",
    "controller = Controller(pub_ip=\"127.0.0.1\", pub_port=5570, pub_key=\"gui.face_config\", pub_bind=False,\n",
    "                        deal_ip=\"127.0.0.1\", deal_port=5580, deal_key=\"gui\", deal_topic=\"multiplier\",\n",
    "                        deal2_ip=\"127.0.0.1\", deal2_port=5581, deal2_key=\"gui\", deal2_topic=\"dnn\",\n",
    "                        deal3_ip=\"127.0.0.1\", deal3_port=5582, deal3_key=\"gui\", deal3_topic=\"dnn\"\n",
    "                       )"
   ]
  },
  {
   "cell_type": "code",
   "execution_count": 8,
   "id": "1f40428181502dca",
   "metadata": {
    "ExecuteTime": {
     "end_time": "2024-08-23T12:55:14.182186Z",
     "start_time": "2024-08-23T12:55:14.177169Z"
    }
   },
   "outputs": [],
   "source": [
    "# AU sliders\n",
    "# AU sliders\n",
    "au_descriptions = {\n",
    "    \"AU01\": \"Inner brow raiser\",\n",
    "    \"AU02\": \"Outer brow raiser\",\n",
    "    \"AU04\": \"Brow lowerer\",\n",
    "    \"AU05\": \"Upper lid raiser\",\n",
    "    \"AU06\": \"Cheek raiser\",\n",
    "    \"AU07\": \"Lid tightener\",\n",
    "    \"AU09\": \"Nose wrinkler\",\n",
    "    \"AU10\": \"Upper lip raiser\",\n",
    "    \"AU12\": \"Lip corner puller\",\n",
    "    \"AU14\": \"Dimpler\",\n",
    "    \"AU15\": \"Lip corner depressor\",\n",
    "    \"AU17\": \"Chin raiser\",\n",
    "    \"AU20\": \"Lip stretcher\",\n",
    "    \"AU23\": \"Lip tightener\",\n",
    "    \"AU25\": \"Lips part\",\n",
    "    \"AU26\": \"Jaw drop\",\n",
    "    \"AU45\": \"Blink\",\n",
    "#     \"AU61\": \"Eyes left\",\n",
    "#     \"AU62\": \"Eyes right\",\n",
    "#     \"AU63\": \"Eyes up\",\n",
    "#     \"AU64\": \"Eyes down\"\n",
    "}\n",
    "\n",
    "style_au = {'description_width': '190px'}"
   ]
  },
  {
   "cell_type": "code",
   "execution_count": 9,
   "id": "724040b66f2c79a",
   "metadata": {
    "ExecuteTime": {
     "end_time": "2024-08-23T12:55:14.996953Z",
     "start_time": "2024-08-23T12:55:14.969860Z"
    }
   },
   "outputs": [
    {
     "ename": "NameError",
     "evalue": "name 'widgets' is not defined",
     "output_type": "error",
     "traceback": [
      "\u001B[1;31m---------------------------------------------------------------------------\u001B[0m",
      "\u001B[1;31mNameError\u001B[0m                                 Traceback (most recent call last)",
      "Cell \u001B[1;32mIn[9], line 6\u001B[0m\n\u001B[0;32m      4\u001B[0m dict_config \u001B[38;5;241m=\u001B[39m {}\n\u001B[0;32m      5\u001B[0m \u001B[38;5;28;01mfor\u001B[39;00m au, desc \u001B[38;5;129;01min\u001B[39;00m au_descriptions\u001B[38;5;241m.\u001B[39mitems():\n\u001B[1;32m----> 6\u001B[0m     dict_config[au] \u001B[38;5;241m=\u001B[39m \u001B[43mwidgets\u001B[49m\u001B[38;5;241m.\u001B[39mFloatSlider(value\u001B[38;5;241m=\u001B[39m\u001B[38;5;241m0.0\u001B[39m, \u001B[38;5;28mmin\u001B[39m\u001B[38;5;241m=\u001B[39m\u001B[38;5;241m0.0\u001B[39m, \u001B[38;5;28mmax\u001B[39m\u001B[38;5;241m=\u001B[39m\u001B[38;5;241m1.0\u001B[39m, step\u001B[38;5;241m=\u001B[39m\u001B[38;5;241m0.02\u001B[39m, style\u001B[38;5;241m=\u001B[39mstyle_au,\n\u001B[0;32m      7\u001B[0m                                       layout\u001B[38;5;241m=\u001B[39mLayout(width\u001B[38;5;241m=\u001B[39m\u001B[38;5;124m'\u001B[39m\u001B[38;5;124m520px\u001B[39m\u001B[38;5;124m'\u001B[39m),\n\u001B[0;32m      8\u001B[0m                                       description\u001B[38;5;241m=\u001B[39m\u001B[38;5;124m\"\u001B[39m\u001B[38;5;132;01m{}\u001B[39;00m\u001B[38;5;124m (\u001B[39m\u001B[38;5;132;01m{}\u001B[39;00m\u001B[38;5;124m)\u001B[39m\u001B[38;5;124m\"\u001B[39m\u001B[38;5;241m.\u001B[39mformat(au, desc))\n\u001B[0;32m     10\u001B[0m \u001B[38;5;66;03m# create float sliders for head pose\u001B[39;00m\n\u001B[0;32m     11\u001B[0m \u001B[38;5;28;01mfor\u001B[39;00m pose \u001B[38;5;129;01min\u001B[39;00m [\u001B[38;5;124m\"\u001B[39m\u001B[38;5;124mpose_Rx\u001B[39m\u001B[38;5;124m\"\u001B[39m, \u001B[38;5;124m\"\u001B[39m\u001B[38;5;124mpose_Ry\u001B[39m\u001B[38;5;124m\"\u001B[39m, \u001B[38;5;124m\"\u001B[39m\u001B[38;5;124mpose_Rz\u001B[39m\u001B[38;5;124m\"\u001B[39m]:\n",
      "\u001B[1;31mNameError\u001B[0m: name 'widgets' is not defined"
     ]
    }
   ],
   "source": [
    "# set facial configuration in real-time\n",
    "\n",
    "# create float sliders for every AU\n",
    "dict_config = {}\n",
    "for au, desc in au_descriptions.items():\n",
    "    dict_config[au] = widgets.FloatSlider(value=0.0, min=0.0, max=1.0, step=0.02, style=style_au,\n",
    "                                      layout=Layout(width='520px'),\n",
    "                                      description=\"{} ({})\".format(au, desc))\n",
    "    \n",
    "# create float sliders for head pose\n",
    "for pose in [\"pose_Rx\", \"pose_Ry\", \"pose_Rz\"]:\n",
    "    dict_config[pose] = widgets.FloatSlider(value=0.0, min=-1.0, max=1.0, step=0.02, style=style_au,\n",
    "                                      layout=Layout(width='520px'))\n",
    "\n",
    "# send facial configuration to FACSvatar\n",
    "def view_face_configuration(**kwargs):\n",
    "    controller.face_configuration(kwargs)\n",
    "    # return kwargs\n",
    "\n",
    "\n",
    "w_face = interactive(view_face_configuration, **dict_config)\n",
    "\n",
    "\n",
    "# print(w.children)\n",
    "display(HBox([w_face]))"
   ]
  },
  {
   "cell_type": "code",
   "outputs": [],
   "source": [],
   "metadata": {
    "collapsed": false
   },
   "id": "958233ecb2e06cb2"
  }
 ],
 "metadata": {
  "kernelspec": {
   "display_name": "Python 3 (ipykernel)",
   "language": "python",
   "name": "python3"
  },
  "language_info": {
   "codemirror_mode": {
    "name": "ipython",
    "version": 3
   },
   "file_extension": ".py",
   "mimetype": "text/x-python",
   "name": "python",
   "nbconvert_exporter": "python",
   "pygments_lexer": "ipython3",
   "version": "3.7.16"
  }
 },
 "nbformat": 4,
 "nbformat_minor": 5
}
